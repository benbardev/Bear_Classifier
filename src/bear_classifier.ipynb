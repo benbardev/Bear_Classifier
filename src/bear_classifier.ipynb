{
 "cells": [
  {
   "cell_type": "markdown",
   "metadata": {
    "colab_type": "text",
    "id": "view-in-github"
   },
   "source": [
    "<a href=\"https://colab.research.google.com/github/benbardev/Bear_Classifier/blob/main/Bear_classifier.ipynb\" target=\"_parent\"><img src=\"https://colab.research.google.com/assets/colab-badge.svg\" alt=\"Open In Colab\"/></a>"
   ]
  },
  {
   "cell_type": "markdown",
   "metadata": {},
   "source": [
    "This workbook makes a webapp that can classify bear images as either Grizzly, Black or Teddy bear."
   ]
  },
  {
   "cell_type": "code",
   "execution_count": 1,
   "metadata": {
    "colab": {
     "base_uri": "https://localhost:8080/",
     "height": 1000
    },
    "id": "cDypxOfnfDvh",
    "outputId": "88f3cd92-e552-4d12-fb46-f53a29ba2948"
   },
   "outputs": [
    {
     "name": "stdout",
     "output_type": "stream",
     "text": [
      "Requirement already satisfied: voila in /home/ben/anaconda3/envs/devspace/lib/python3.9/site-packages (0.3.5)\n",
      "Requirement already satisfied: nbconvert<7,>=6.4.5 in /home/ben/anaconda3/envs/devspace/lib/python3.9/site-packages (from voila) (6.5.0)\n",
      "Requirement already satisfied: jupyter-client<8,>=6.1.3 in /home/ben/anaconda3/envs/devspace/lib/python3.9/site-packages (from voila) (7.3.4)\n",
      "Requirement already satisfied: traitlets<6,>=5.0.3 in /home/ben/anaconda3/envs/devspace/lib/python3.9/site-packages (from voila) (5.2.2.post1)\n",
      "Requirement already satisfied: websockets>=9.0 in /home/ben/anaconda3/envs/devspace/lib/python3.9/site-packages (from voila) (10.3)\n",
      "Requirement already satisfied: jupyter-server<2.0.0,>=0.3.0 in /home/ben/anaconda3/envs/devspace/lib/python3.9/site-packages (from voila) (1.17.1)\n",
      "Requirement already satisfied: jupyterlab-server<3,>=2.3.0 in /home/ben/anaconda3/envs/devspace/lib/python3.9/site-packages (from voila) (2.14.0)\n",
      "Requirement already satisfied: nbclient<0.6,>=0.4.0 in /home/ben/anaconda3/envs/devspace/lib/python3.9/site-packages (from voila) (0.5.13)\n",
      "Requirement already satisfied: tornado>=6.0 in /home/ben/anaconda3/envs/devspace/lib/python3.9/site-packages (from jupyter-client<8,>=6.1.3->voila) (6.1)\n",
      "Requirement already satisfied: python-dateutil>=2.8.2 in /home/ben/anaconda3/envs/devspace/lib/python3.9/site-packages (from jupyter-client<8,>=6.1.3->voila) (2.8.2)\n",
      "Requirement already satisfied: jupyter-core>=4.9.2 in /home/ben/anaconda3/envs/devspace/lib/python3.9/site-packages (from jupyter-client<8,>=6.1.3->voila) (4.10.0)\n",
      "Requirement already satisfied: nest-asyncio>=1.5.4 in /home/ben/anaconda3/envs/devspace/lib/python3.9/site-packages (from jupyter-client<8,>=6.1.3->voila) (1.5.5)\n",
      "Requirement already satisfied: pyzmq>=23.0 in /home/ben/anaconda3/envs/devspace/lib/python3.9/site-packages (from jupyter-client<8,>=6.1.3->voila) (23.1.0)\n",
      "Requirement already satisfied: entrypoints in /home/ben/anaconda3/envs/devspace/lib/python3.9/site-packages (from jupyter-client<8,>=6.1.3->voila) (0.4)\n",
      "Requirement already satisfied: websocket-client in /home/ben/anaconda3/envs/devspace/lib/python3.9/site-packages (from jupyter-server<2.0.0,>=0.3.0->voila) (1.3.2)\n",
      "Requirement already satisfied: jinja2 in /home/ben/anaconda3/envs/devspace/lib/python3.9/site-packages (from jupyter-server<2.0.0,>=0.3.0->voila) (3.1.2)\n",
      "Requirement already satisfied: packaging in /home/ben/anaconda3/envs/devspace/lib/python3.9/site-packages (from jupyter-server<2.0.0,>=0.3.0->voila) (21.3)\n",
      "Requirement already satisfied: terminado>=0.8.3 in /home/ben/anaconda3/envs/devspace/lib/python3.9/site-packages (from jupyter-server<2.0.0,>=0.3.0->voila) (0.15.0)\n",
      "Requirement already satisfied: anyio<4,>=3.1.0 in /home/ben/anaconda3/envs/devspace/lib/python3.9/site-packages (from jupyter-server<2.0.0,>=0.3.0->voila) (3.6.1)\n",
      "Requirement already satisfied: nbformat>=5.2.0 in /home/ben/anaconda3/envs/devspace/lib/python3.9/site-packages (from jupyter-server<2.0.0,>=0.3.0->voila) (5.4.0)\n",
      "Requirement already satisfied: prometheus-client in /home/ben/anaconda3/envs/devspace/lib/python3.9/site-packages (from jupyter-server<2.0.0,>=0.3.0->voila) (0.14.1)\n",
      "Requirement already satisfied: Send2Trash in /home/ben/anaconda3/envs/devspace/lib/python3.9/site-packages (from jupyter-server<2.0.0,>=0.3.0->voila) (1.8.0)\n",
      "Requirement already satisfied: argon2-cffi in /home/ben/anaconda3/envs/devspace/lib/python3.9/site-packages (from jupyter-server<2.0.0,>=0.3.0->voila) (21.3.0)\n",
      "Requirement already satisfied: requests in /home/ben/anaconda3/envs/devspace/lib/python3.9/site-packages (from jupyterlab-server<3,>=2.3.0->voila) (2.28.0)\n",
      "Requirement already satisfied: importlib-metadata>=3.6 in /home/ben/anaconda3/envs/devspace/lib/python3.9/site-packages (from jupyterlab-server<3,>=2.3.0->voila) (4.11.4)\n",
      "Requirement already satisfied: json5 in /home/ben/anaconda3/envs/devspace/lib/python3.9/site-packages (from jupyterlab-server<3,>=2.3.0->voila) (0.9.8)\n",
      "Requirement already satisfied: jsonschema>=3.0.1 in /home/ben/anaconda3/envs/devspace/lib/python3.9/site-packages (from jupyterlab-server<3,>=2.3.0->voila) (4.6.0)\n",
      "Requirement already satisfied: babel in /home/ben/anaconda3/envs/devspace/lib/python3.9/site-packages (from jupyterlab-server<3,>=2.3.0->voila) (2.10.1)\n",
      "Requirement already satisfied: beautifulsoup4 in /home/ben/anaconda3/envs/devspace/lib/python3.9/site-packages (from nbconvert<7,>=6.4.5->voila) (4.11.1)\n",
      "Requirement already satisfied: mistune<2,>=0.8.1 in /home/ben/anaconda3/envs/devspace/lib/python3.9/site-packages (from nbconvert<7,>=6.4.5->voila) (0.8.4)\n",
      "Requirement already satisfied: pandocfilters>=1.4.1 in /home/ben/anaconda3/envs/devspace/lib/python3.9/site-packages (from nbconvert<7,>=6.4.5->voila) (1.5.0)\n",
      "Requirement already satisfied: pygments>=2.4.1 in /home/ben/anaconda3/envs/devspace/lib/python3.9/site-packages (from nbconvert<7,>=6.4.5->voila) (2.12.0)\n",
      "Requirement already satisfied: MarkupSafe>=2.0 in /home/ben/anaconda3/envs/devspace/lib/python3.9/site-packages (from nbconvert<7,>=6.4.5->voila) (2.1.1)\n",
      "Requirement already satisfied: jupyterlab-pygments in /home/ben/anaconda3/envs/devspace/lib/python3.9/site-packages (from nbconvert<7,>=6.4.5->voila) (0.2.2)\n",
      "Requirement already satisfied: tinycss2 in /home/ben/anaconda3/envs/devspace/lib/python3.9/site-packages (from nbconvert<7,>=6.4.5->voila) (1.1.1)\n",
      "Requirement already satisfied: bleach in /home/ben/anaconda3/envs/devspace/lib/python3.9/site-packages (from nbconvert<7,>=6.4.5->voila) (5.0.0)\n",
      "Requirement already satisfied: defusedxml in /home/ben/anaconda3/envs/devspace/lib/python3.9/site-packages (from nbconvert<7,>=6.4.5->voila) (0.7.1)\n",
      "Requirement already satisfied: idna>=2.8 in /home/ben/anaconda3/envs/devspace/lib/python3.9/site-packages (from anyio<4,>=3.1.0->jupyter-server<2.0.0,>=0.3.0->voila) (3.3)\n",
      "Requirement already satisfied: sniffio>=1.1 in /home/ben/anaconda3/envs/devspace/lib/python3.9/site-packages (from anyio<4,>=3.1.0->jupyter-server<2.0.0,>=0.3.0->voila) (1.2.0)\n",
      "Requirement already satisfied: zipp>=0.5 in /home/ben/anaconda3/envs/devspace/lib/python3.9/site-packages (from importlib-metadata>=3.6->jupyterlab-server<3,>=2.3.0->voila) (3.8.0)\n",
      "Requirement already satisfied: attrs>=17.4.0 in /home/ben/anaconda3/envs/devspace/lib/python3.9/site-packages (from jsonschema>=3.0.1->jupyterlab-server<3,>=2.3.0->voila) (21.4.0)\n",
      "Requirement already satisfied: pyrsistent!=0.17.0,!=0.17.1,!=0.17.2,>=0.14.0 in /home/ben/anaconda3/envs/devspace/lib/python3.9/site-packages (from jsonschema>=3.0.1->jupyterlab-server<3,>=2.3.0->voila) (0.18.1)\n",
      "Requirement already satisfied: fastjsonschema in /home/ben/anaconda3/envs/devspace/lib/python3.9/site-packages (from nbformat>=5.2.0->jupyter-server<2.0.0,>=0.3.0->voila) (2.15.3)\n",
      "Requirement already satisfied: six>=1.5 in /home/ben/anaconda3/envs/devspace/lib/python3.9/site-packages (from python-dateutil>=2.8.2->jupyter-client<8,>=6.1.3->voila) (1.16.0)\n",
      "Requirement already satisfied: ptyprocess in /home/ben/anaconda3/envs/devspace/lib/python3.9/site-packages (from terminado>=0.8.3->jupyter-server<2.0.0,>=0.3.0->voila) (0.7.0)\n",
      "Requirement already satisfied: argon2-cffi-bindings in /home/ben/anaconda3/envs/devspace/lib/python3.9/site-packages (from argon2-cffi->jupyter-server<2.0.0,>=0.3.0->voila) (21.2.0)\n",
      "Requirement already satisfied: pytz>=2015.7 in /home/ben/anaconda3/envs/devspace/lib/python3.9/site-packages (from babel->jupyterlab-server<3,>=2.3.0->voila) (2022.1)\n",
      "Requirement already satisfied: soupsieve>1.2 in /home/ben/anaconda3/envs/devspace/lib/python3.9/site-packages (from beautifulsoup4->nbconvert<7,>=6.4.5->voila) (2.3.1)\n",
      "Requirement already satisfied: webencodings in /home/ben/anaconda3/envs/devspace/lib/python3.9/site-packages (from bleach->nbconvert<7,>=6.4.5->voila) (0.5.1)\n",
      "Requirement already satisfied: pyparsing!=3.0.5,>=2.0.2 in /home/ben/anaconda3/envs/devspace/lib/python3.9/site-packages (from packaging->jupyter-server<2.0.0,>=0.3.0->voila) (3.0.9)\n",
      "Requirement already satisfied: certifi>=2017.4.17 in /home/ben/anaconda3/envs/devspace/lib/python3.9/site-packages (from requests->jupyterlab-server<3,>=2.3.0->voila) (2022.5.18.1)\n",
      "Requirement already satisfied: charset-normalizer~=2.0.0 in /home/ben/anaconda3/envs/devspace/lib/python3.9/site-packages (from requests->jupyterlab-server<3,>=2.3.0->voila) (2.0.12)\n",
      "Requirement already satisfied: urllib3<1.27,>=1.21.1 in /home/ben/anaconda3/envs/devspace/lib/python3.9/site-packages (from requests->jupyterlab-server<3,>=2.3.0->voila) (1.26.9)\n"
     ]
    },
    {
     "name": "stdout",
     "output_type": "stream",
     "text": [
      "Requirement already satisfied: cffi>=1.0.1 in /home/ben/anaconda3/envs/devspace/lib/python3.9/site-packages (from argon2-cffi-bindings->argon2-cffi->jupyter-server<2.0.0,>=0.3.0->voila) (1.15.0)\n",
      "Requirement already satisfied: pycparser in /home/ben/anaconda3/envs/devspace/lib/python3.9/site-packages (from cffi>=1.0.1->argon2-cffi-bindings->argon2-cffi->jupyter-server<2.0.0,>=0.3.0->voila) (2.21)\n",
      "Enabling: voila\n",
      "- Writing config: /home/ben/anaconda3/envs/devspace/etc/jupyter\n",
      "    - Validating...\n",
      "      voila 0.3.5 \u001b[32mOK\u001b[0m\n"
     ]
    }
   ],
   "source": [
    "#hide\n",
    "#!pip install voila\n",
    "#!jupyter serverextension enable --sys-prefix voila "
   ]
  },
  {
   "cell_type": "code",
   "execution_count": 2,
   "metadata": {},
   "outputs": [],
   "source": [
    "from fastbook import *\n",
    "from fastai.vision.widgets import *"
   ]
  },
  {
   "cell_type": "code",
   "execution_count": 3,
   "metadata": {
    "id": "Gbu49_Ovq5Ec"
   },
   "outputs": [],
   "source": [
    "path = Path('../data')\n",
    "learn_inf = load_learner(path/'export.pkl', cpu=True)"
   ]
  },
  {
   "cell_type": "code",
   "execution_count": 4,
   "metadata": {
    "id": "RPmjNIeLrB0A"
   },
   "outputs": [],
   "source": [
    "btn_upload = widgets.FileUpload()\n",
    "#btn_upload"
   ]
  },
  {
   "cell_type": "code",
   "execution_count": 6,
   "metadata": {},
   "outputs": [],
   "source": [
    "img = PILImage.create(path/'Blank_image.jpg')"
   ]
  },
  {
   "cell_type": "code",
   "execution_count": 7,
   "metadata": {
    "id": "DHjW0wmcrJYC"
   },
   "outputs": [],
   "source": [
    "out_pl = widgets.Output()\n",
    "out_pl.clear_output()\n",
    "with out_pl: display(img.to_thumb(128,128))\n",
    "#out_pl"
   ]
  },
  {
   "cell_type": "code",
   "execution_count": 8,
   "metadata": {},
   "outputs": [],
   "source": [
    "lbl_pred = widgets.Label()\n",
    "lbl_pred.value = f'Add an image'"
   ]
  },
  {
   "cell_type": "code",
   "execution_count": 9,
   "metadata": {
    "id": "Ybdu8MDRrTVu"
   },
   "outputs": [],
   "source": [
    "btn_run = widgets.Button(description='Classify')\n",
    "#btn_run"
   ]
  },
  {
   "cell_type": "code",
   "execution_count": 10,
   "metadata": {
    "id": "ULaYWbUerVxA"
   },
   "outputs": [],
   "source": [
    "def on_click_classify(change):\n",
    "    img = PILImage.create(btn_upload.data[-1])\n",
    "    out_pl.clear_output()\n",
    "    with out_pl: display(img.to_thumb(128,128))\n",
    "    pred,pred_idx,probs = learn_inf.predict(img)\n",
    "    lbl_pred.value = f'Prediction: {pred}; Probability: {probs[pred_idx]:.04f}'\n",
    "\n",
    "btn_run.on_click(on_click_classify)"
   ]
  },
  {
   "cell_type": "code",
   "execution_count": 11,
   "metadata": {
    "id": "s2852-FBrdWB"
   },
   "outputs": [
    {
     "data": {
      "application/vnd.jupyter.widget-view+json": {
       "model_id": "cc037ef8a90647f3a37ee5e0f80c538b",
       "version_major": 2,
       "version_minor": 0
      },
      "text/plain": [
       "VBox(children=(Label(value='Select your bear!'), FileUpload(value={}, description='Upload'), Button(descriptio…"
      ]
     },
     "metadata": {},
     "output_type": "display_data"
    },
    {
     "data": {
      "text/html": [
       "\n",
       "<style>\n",
       "    /* Turns off some styling */\n",
       "    progress {\n",
       "        /* gets rid of default border in Firefox and Opera. */\n",
       "        border: none;\n",
       "        /* Needs to be in here for Safari polyfill so background images work as expected. */\n",
       "        background-size: auto;\n",
       "    }\n",
       "    .progress-bar-interrupted, .progress-bar-interrupted::-webkit-progress-bar {\n",
       "        background: #F44336;\n",
       "    }\n",
       "</style>\n"
      ],
      "text/plain": [
       "<IPython.core.display.HTML object>"
      ]
     },
     "metadata": {},
     "output_type": "display_data"
    },
    {
     "data": {
      "text/html": [],
      "text/plain": [
       "<IPython.core.display.HTML object>"
      ]
     },
     "metadata": {},
     "output_type": "display_data"
    }
   ],
   "source": [
    "VBox([widgets.Label('Select your bear!'), \n",
    "      btn_upload, btn_run, out_pl, lbl_pred])"
   ]
  },
  {
   "cell_type": "code",
   "execution_count": null,
   "metadata": {},
   "outputs": [],
   "source": []
  }
 ],
 "metadata": {
  "colab": {
   "authorship_tag": "ABX9TyO5tdQEgu4ChfoJ1gj1h6tH",
   "include_colab_link": true,
   "name": "Bear_classifier.ipynb",
   "provenance": []
  },
  "kernelspec": {
   "display_name": "Python 3 (ipykernel)",
   "language": "python",
   "name": "python3"
  },
  "language_info": {
   "codemirror_mode": {
    "name": "ipython",
    "version": 3
   },
   "file_extension": ".py",
   "mimetype": "text/x-python",
   "name": "python",
   "nbconvert_exporter": "python",
   "pygments_lexer": "ipython3",
   "version": "3.9.13"
  }
 },
 "nbformat": 4,
 "nbformat_minor": 1
}
