{
 "cells": [
  {
   "cell_type": "markdown",
   "metadata": {
    "colab_type": "text",
    "id": "view-in-github"
   },
   "source": [
    "<a href=\"https://colab.research.google.com/github/benbardev/Bear_Classifier/blob/main/Bear_classifier.ipynb\" target=\"_parent\"><img src=\"https://colab.research.google.com/assets/colab-badge.svg\" alt=\"Open In Colab\"/></a>"
   ]
  },
  {
   "cell_type": "markdown",
   "metadata": {},
   "source": [
    "This workbook makes a webapp that can classify bear images as either Grizzly, Black or Teddy bear."
   ]
  },
  {
   "cell_type": "code",
   "execution_count": 5,
   "metadata": {
    "colab": {
     "base_uri": "https://localhost:8080/",
     "height": 1000
    },
    "id": "cDypxOfnfDvh",
    "outputId": "88f3cd92-e552-4d12-fb46-f53a29ba2948"
   },
   "outputs": [],
   "source": [
    "#hide\n",
    "#!pip install voila\n",
    "#!jupyter serverextension enable --sys-prefix voila \n",
    "#!pip install gdown"
   ]
  },
  {
   "cell_type": "code",
   "execution_count": 7,
   "metadata": {},
   "outputs": [],
   "source": [
    "#from fastbook import *\n",
    "from fastai.vision.widgets import *\n",
    "#from fastai.vision.all import *\n",
    "import gdown"
   ]
  },
  {
   "cell_type": "code",
   "execution_count": 14,
   "metadata": {
    "id": "Gbu49_Ovq5Ec"
   },
   "outputs": [
    {
     "name": "stderr",
     "output_type": "stream",
     "text": [
      "Downloading...\n",
      "From: https://drive.google.com/uc?id=1c6BREFWxg4uS8x6F4LIrU__hK5GaTyWY\n",
      "To: /home/ben/Projects/Bear_Classifier/data/model.pkl\n",
      "\n",
      "  0%|                                               | 0.00/47.0M [00:00<?, ?B/s]\u001b[A\n",
      "  1%|▍                                      | 524k/47.0M [00:00<00:11, 4.20MB/s]\u001b[A\n",
      "  2%|▊                                     | 1.05M/47.0M [00:00<00:10, 4.33MB/s]\u001b[A\n",
      "  3%|█▎                                    | 1.57M/47.0M [00:00<00:10, 4.40MB/s]\u001b[A\n",
      "  6%|██                                    | 2.62M/47.0M [00:00<00:09, 4.69MB/s]\u001b[A\n",
      "  7%|██▌                                   | 3.15M/47.0M [00:00<00:09, 4.44MB/s]\u001b[A\n",
      "  9%|███▍                                  | 4.19M/47.0M [00:00<00:09, 4.72MB/s]\u001b[A\n",
      " 10%|███▊                                  | 4.72M/47.0M [00:01<00:09, 4.68MB/s]\u001b[A\n",
      " 11%|████▏                                 | 5.24M/47.0M [00:01<00:08, 4.67MB/s]\u001b[A\n",
      " 12%|████▋                                 | 5.77M/47.0M [00:01<00:08, 4.68MB/s]\u001b[A\n",
      " 13%|█████                                 | 6.29M/47.0M [00:01<00:08, 4.69MB/s]\u001b[A\n",
      " 15%|█████▌                                | 6.82M/47.0M [00:01<00:08, 4.68MB/s]\u001b[A\n",
      " 16%|█████▉                                | 7.34M/47.0M [00:01<00:08, 4.63MB/s]\u001b[A\n",
      " 17%|██████▎                               | 7.86M/47.0M [00:01<00:08, 4.61MB/s]\u001b[A\n",
      " 18%|██████▊                               | 8.39M/47.0M [00:01<00:08, 4.61MB/s]\u001b[A\n",
      " 19%|███████▏                              | 8.91M/47.0M [00:01<00:08, 4.68MB/s]\u001b[A\n",
      " 20%|███████▋                              | 9.44M/47.0M [00:02<00:08, 4.67MB/s]\u001b[A\n",
      " 21%|████████                              | 9.96M/47.0M [00:02<00:07, 4.66MB/s]\u001b[A\n",
      " 22%|████████▍                             | 10.5M/47.0M [00:02<00:07, 4.67MB/s]\u001b[A\n",
      " 23%|████████▉                             | 11.0M/47.0M [00:02<00:08, 4.44MB/s]\u001b[A\n",
      " 25%|█████████▎                            | 11.5M/47.0M [00:02<00:07, 4.63MB/s]\u001b[A\n",
      " 26%|█████████▊                            | 12.1M/47.0M [00:02<00:07, 4.74MB/s]\u001b[A\n",
      " 27%|██████████▏                           | 12.6M/47.0M [00:02<00:07, 4.72MB/s]\u001b[A\n",
      " 28%|██████████▌                           | 13.1M/47.0M [00:02<00:07, 4.69MB/s]\u001b[A\n",
      " 29%|███████████                           | 13.6M/47.0M [00:02<00:07, 4.67MB/s]\u001b[A\n",
      " 30%|███████████▍                          | 14.2M/47.0M [00:03<00:07, 4.66MB/s]\u001b[A\n",
      " 31%|███████████▉                          | 14.7M/47.0M [00:03<00:06, 4.69MB/s]\u001b[A\n",
      " 32%|████████████▎                         | 15.2M/47.0M [00:03<00:06, 4.65MB/s]\u001b[A\n",
      " 33%|████████████▋                         | 15.7M/47.0M [00:03<00:06, 4.47MB/s]\u001b[A\n",
      " 35%|█████████████▏                        | 16.3M/47.0M [00:03<00:06, 4.64MB/s]\u001b[A\n",
      " 36%|█████████████▌                        | 16.8M/47.0M [00:03<00:06, 4.63MB/s]\u001b[A\n",
      " 37%|█████████████▉                        | 17.3M/47.0M [00:03<00:06, 4.76MB/s]\u001b[A\n",
      " 38%|██████████████▍                       | 17.8M/47.0M [00:03<00:06, 4.73MB/s]\u001b[A\n",
      " 39%|██████████████▊                       | 18.4M/47.0M [00:03<00:06, 4.70MB/s]\u001b[A\n",
      " 40%|███████████████▎                      | 18.9M/47.0M [00:04<00:06, 4.61MB/s]\u001b[A\n",
      " 41%|███████████████▋                      | 19.4M/47.0M [00:04<00:05, 4.69MB/s]\u001b[A\n",
      " 42%|████████████████                      | 19.9M/47.0M [00:04<00:05, 4.69MB/s]\u001b[A\n",
      " 44%|████████████████▌                     | 20.4M/47.0M [00:04<00:05, 4.68MB/s]\u001b[A\n",
      " 45%|████████████████▉                     | 21.0M/47.0M [00:04<00:05, 4.68MB/s]\u001b[A\n",
      " 46%|█████████████████▍                    | 21.5M/47.0M [00:04<00:05, 4.65MB/s]\u001b[A\n",
      " 47%|█████████████████▊                    | 22.0M/47.0M [00:04<00:05, 4.39MB/s]\u001b[A\n",
      " 48%|██████████████████▏                   | 22.5M/47.0M [00:04<00:05, 4.46MB/s]\u001b[A\n",
      " 50%|███████████████████                   | 23.6M/47.0M [00:05<00:04, 4.71MB/s]\u001b[A\n",
      " 51%|███████████████████▌                  | 24.1M/47.0M [00:05<00:04, 4.61MB/s]\u001b[A\n",
      " 52%|███████████████████▉                  | 24.6M/47.0M [00:05<00:04, 4.51MB/s]\u001b[A\n",
      " 55%|████████████████████▊                 | 25.7M/47.0M [00:05<00:04, 4.52MB/s]\u001b[A\n",
      " 57%|█████████████████████▋                | 26.7M/47.0M [00:05<00:04, 4.78MB/s]\u001b[A\n",
      " 58%|██████████████████████                | 27.3M/47.0M [00:05<00:04, 4.75MB/s]\u001b[A\n",
      " 59%|██████████████████████▍               | 27.8M/47.0M [00:05<00:04, 4.74MB/s]\u001b[A\n",
      " 60%|██████████████████████▉               | 28.3M/47.0M [00:06<00:03, 4.71MB/s]\u001b[A\n",
      " 61%|███████████████████████▎              | 28.8M/47.0M [00:06<00:03, 4.70MB/s]\u001b[A\n",
      " 63%|███████████████████████▊              | 29.4M/47.0M [00:06<00:03, 4.60MB/s]\u001b[A\n",
      " 64%|████████████████████████▏             | 29.9M/47.0M [00:06<00:03, 4.62MB/s]\u001b[A\n",
      " 65%|████████████████████████▌             | 30.4M/47.0M [00:06<00:03, 4.63MB/s]\u001b[A\n",
      " 66%|█████████████████████████             | 30.9M/47.0M [00:06<00:03, 4.64MB/s]\u001b[A\n",
      " 67%|█████████████████████████▍            | 31.5M/47.0M [00:06<00:03, 4.65MB/s]\u001b[A\n",
      " 68%|█████████████████████████▉            | 32.0M/47.0M [00:06<00:03, 4.29MB/s]\u001b[A\n",
      " 70%|██████████████████████████▋           | 33.0M/47.0M [00:07<00:02, 4.75MB/s]\u001b[A\n",
      " 71%|███████████████████████████▏          | 33.6M/47.0M [00:07<00:02, 4.65MB/s]\u001b[A\n",
      " 73%|███████████████████████████▌          | 34.1M/47.0M [00:07<00:02, 4.73MB/s]\u001b[A\n",
      " 74%|███████████████████████████▉          | 34.6M/47.0M [00:07<00:02, 4.70MB/s]\u001b[A\n",
      " 75%|████████████████████████████▍         | 35.1M/47.0M [00:07<00:02, 4.70MB/s]\u001b[A\n",
      " 76%|████████████████████████████▊         | 35.7M/47.0M [00:07<00:02, 4.69MB/s]\u001b[A\n",
      " 77%|█████████████████████████████▎        | 36.2M/47.0M [00:07<00:02, 4.63MB/s]\u001b[A\n",
      " 78%|█████████████████████████████▋        | 36.7M/47.0M [00:07<00:02, 4.68MB/s]\u001b[A\n",
      " 79%|██████████████████████████████        | 37.2M/47.0M [00:08<00:02, 4.68MB/s]\u001b[A\n",
      " 80%|██████████████████████████████▌       | 37.7M/47.0M [00:08<00:01, 4.68MB/s]\u001b[A\n",
      " 81%|██████████████████████████████▉       | 38.3M/47.0M [00:08<00:01, 4.65MB/s]\u001b[A\n",
      " 83%|███████████████████████████████▍      | 38.8M/47.0M [00:08<00:01, 4.55MB/s]\u001b[A\n",
      " 84%|███████████████████████████████▊      | 39.3M/47.0M [00:08<00:01, 4.71MB/s]\u001b[A\n",
      " 85%|████████████████████████████████▏     | 39.8M/47.0M [00:08<00:01, 4.69MB/s]\u001b[A\n",
      " 86%|████████████████████████████████▋     | 40.4M/47.0M [00:08<00:01, 4.68MB/s]\u001b[A\n",
      " 87%|█████████████████████████████████     | 40.9M/47.0M [00:08<00:01, 4.68MB/s]\u001b[A\n",
      " 88%|█████████████████████████████████▌    | 41.4M/47.0M [00:08<00:01, 4.67MB/s]\u001b[A\n",
      " 89%|█████████████████████████████████▉    | 41.9M/47.0M [00:09<00:01, 4.67MB/s]\u001b[A\n",
      " 90%|██████████████████████████████████▎   | 42.5M/47.0M [00:09<00:00, 4.67MB/s]\u001b[A\n",
      " 92%|██████████████████████████████████▊   | 43.0M/47.0M [00:09<00:00, 4.52MB/s]\u001b[A\n",
      " 93%|███████████████████████████████████▏  | 43.5M/47.0M [00:09<00:00, 4.60MB/s]\u001b[A\n",
      " 94%|███████████████████████████████████▋  | 44.0M/47.0M [00:09<00:00, 4.70MB/s]\u001b[A\n",
      " 95%|████████████████████████████████████  | 44.6M/47.0M [00:09<00:00, 4.67MB/s]\u001b[A\n",
      " 96%|████████████████████████████████████▍ | 45.1M/47.0M [00:09<00:00, 4.64MB/s]\u001b[A\n",
      " 97%|████████████████████████████████████▉ | 45.6M/47.0M [00:09<00:00, 4.16MB/s]\u001b[A\n",
      " 98%|█████████████████████████████████████▎| 46.1M/47.0M [00:10<00:00, 3.59MB/s]\u001b[A\n",
      "100%|██████████████████████████████████████| 47.0M/47.0M [00:10<00:00, 4.59MB/s]\u001b[A\n"
     ]
    }
   ],
   "source": [
    "p1 = '../data'\n",
    "path = Path(p1)\n",
    "if 1:\n",
    "    model_url = 'https://drive.google.com/uc?id=1c6BREFWxg4uS8x6F4LIrU__hK5GaTyWY'\n",
    "    gdown.download(model_url, p1 + '/model.pkl')\n",
    "\n",
    "    learn_inf = load_learner(path/'model.pkl', cpu=True)\n",
    "else:\n",
    "    learn_inf = load_learner(path/'export.pkl', cpu=True)\n",
    "    "
   ]
  },
  {
   "cell_type": "code",
   "execution_count": 15,
   "metadata": {
    "id": "RPmjNIeLrB0A"
   },
   "outputs": [],
   "source": [
    "btn_upload = widgets.FileUpload()\n",
    "#btn_upload"
   ]
  },
  {
   "cell_type": "code",
   "execution_count": 16,
   "metadata": {},
   "outputs": [],
   "source": [
    "img = PILImage.create(path/'Blank_image.jpg')"
   ]
  },
  {
   "cell_type": "code",
   "execution_count": 17,
   "metadata": {
    "id": "DHjW0wmcrJYC"
   },
   "outputs": [],
   "source": [
    "out_pl = widgets.Output()\n",
    "out_pl.clear_output()\n",
    "with out_pl: display(img.to_thumb(128,128))\n",
    "#out_pl"
   ]
  },
  {
   "cell_type": "code",
   "execution_count": 18,
   "metadata": {},
   "outputs": [],
   "source": [
    "lbl_pred = widgets.Label()\n",
    "lbl_pred.value = f'Add an image'"
   ]
  },
  {
   "cell_type": "code",
   "execution_count": 19,
   "metadata": {
    "id": "Ybdu8MDRrTVu"
   },
   "outputs": [],
   "source": [
    "btn_run = widgets.Button(description='Classify')\n",
    "#btn_run"
   ]
  },
  {
   "cell_type": "code",
   "execution_count": 20,
   "metadata": {
    "id": "ULaYWbUerVxA"
   },
   "outputs": [],
   "source": [
    "def on_click_classify(change):\n",
    "    img = PILImage.create(btn_upload.data[-1])\n",
    "    out_pl.clear_output()\n",
    "    with out_pl: display(img.to_thumb(128,128))\n",
    "    pred,pred_idx,probs = learn_inf.predict(img)\n",
    "    lbl_pred.value = f'Prediction: {pred}; Probability: {probs[pred_idx]:.04f}'\n",
    "\n",
    "btn_run.on_click(on_click_classify)"
   ]
  },
  {
   "cell_type": "code",
   "execution_count": 21,
   "metadata": {
    "id": "s2852-FBrdWB"
   },
   "outputs": [
    {
     "data": {
      "application/vnd.jupyter.widget-view+json": {
       "model_id": "e5223f593c9d42d1b60b66bf2d429662",
       "version_major": 2,
       "version_minor": 0
      },
      "text/plain": [
       "VBox(children=(Label(value='Select your bear!'), FileUpload(value={}, description='Upload'), Button(descriptio…"
      ]
     },
     "metadata": {},
     "output_type": "display_data"
    },
    {
     "data": {
      "text/html": [
       "\n",
       "<style>\n",
       "    /* Turns off some styling */\n",
       "    progress {\n",
       "        /* gets rid of default border in Firefox and Opera. */\n",
       "        border: none;\n",
       "        /* Needs to be in here for Safari polyfill so background images work as expected. */\n",
       "        background-size: auto;\n",
       "    }\n",
       "    .progress-bar-interrupted, .progress-bar-interrupted::-webkit-progress-bar {\n",
       "        background: #F44336;\n",
       "    }\n",
       "</style>\n"
      ],
      "text/plain": [
       "<IPython.core.display.HTML object>"
      ]
     },
     "metadata": {},
     "output_type": "display_data"
    },
    {
     "data": {
      "text/html": [],
      "text/plain": [
       "<IPython.core.display.HTML object>"
      ]
     },
     "metadata": {},
     "output_type": "display_data"
    }
   ],
   "source": [
    "VBox([widgets.Label('Select your bear!'), \n",
    "      btn_upload, btn_run, out_pl, lbl_pred])"
   ]
  },
  {
   "cell_type": "code",
   "execution_count": null,
   "metadata": {},
   "outputs": [],
   "source": []
  }
 ],
 "metadata": {
  "colab": {
   "authorship_tag": "ABX9TyO5tdQEgu4ChfoJ1gj1h6tH",
   "include_colab_link": true,
   "name": "Bear_classifier.ipynb",
   "provenance": []
  },
  "kernelspec": {
   "display_name": "Python 3 (ipykernel)",
   "language": "python",
   "name": "python3"
  },
  "language_info": {
   "codemirror_mode": {
    "name": "ipython",
    "version": 3
   },
   "file_extension": ".py",
   "mimetype": "text/x-python",
   "name": "python",
   "nbconvert_exporter": "python",
   "pygments_lexer": "ipython3",
   "version": "3.9.13"
  }
 },
 "nbformat": 4,
 "nbformat_minor": 1
}
